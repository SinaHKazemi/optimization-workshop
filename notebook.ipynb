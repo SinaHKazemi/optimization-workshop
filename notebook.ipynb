{
 "cells": [
  {
   "attachments": {},
   "cell_type": "markdown",
   "metadata": {},
   "source": [
    "# Optimization Workshop\n",
    "\n",
    "by: Sina Hajikazemi, Julia Barbosa\n",
    "Date: 25.08.2025\n"
   ]
  },
  {
   "cell_type": "markdown",
   "metadata": {},
   "source": [
    "## Duality Theory in LPs\n",
    "\n",
    "Consider the following optmization problem.  \n",
    "$$\n",
    "\\begin{split}\n",
    "\\min & \\quad f(x) \\\\\n",
    "   \\text{s.t.} &  \\\\\n",
    "   & g(x) \\geq 0  \\\\\n",
    "\\end{split}\n",
    "$$\n",
    "\n",
    "Then we defined the positive lagragian multipliers ( for each constraint) $p \\in \\Re^M_+ $ and the lagrangian relaxation function.\n",
    "This function provides a lower bound, for $f(x)$ over the feasible set. \n",
    "\n",
    "$$L(x,p) := f(x) - p' \\cdot g(x),  $$\n",
    "\n",
    "\n",
    "Let $x^*$ be the solution of the problem above, then it can be shown that the function $k(p)$, which is defined as follows\n",
    "\n",
    "$$ k(p) = \\inf_{x} L(x,p), $$\n",
    "\n",
    "is a lower bound of the *optmial* solution of the orginal OP. \n",
    "\n",
    "Proof: \n",
    "$$k(p) \\leq L(x^*,p) = f(x^*) - p' \\cdot g(x^*) \\leq f(x^*) $$\n",
    "\n",
    "(Note that no assumption of convexity of $f(x)$ and $-g(x)$ was made)"
   ]
  },
  {
   "cell_type": "markdown",
   "metadata": {},
   "source": [
    "### Task 1 \n",
    "\n",
    "Add the code to play with different functions and values of $p$."
   ]
  },
  {
   "cell_type": "code",
   "execution_count": null,
   "metadata": {},
   "outputs": [],
   "source": [
    "from script import plot_lag_function\n",
    "import numpy as np\n",
    "\n",
    "f = lambda x:  (x-2)*(x-4)\n",
    "g = lambda x: x +1\n",
    "\n",
    "# f = lambda x:  x**2\n",
    "# g = lambda x: np.sin(x)\n",
    "\n",
    "\n",
    "# f = lambda x: x**3\n",
    "# g = lambda x: x-1\n",
    "\n",
    "# Strong Duality does not hold.\n",
    "f = lambda x: np.exp(x)+0.3*np.sin(x)*np.exp(-np.abs(x)) \n",
    "g = lambda x: -0.5 + 1/(1 + np.exp(-x))\n",
    "ps = np.linspace(1, 100, 10)\n",
    "linespace = np.linspace(-1, 4, 200)\n",
    "\n",
    "plot_lag_function(f, g, ps, linespace) "
   ]
  },
  {
   "cell_type": "markdown",
   "metadata": {},
   "source": [
    "### Task 2 \n",
    "We now apply these concepts to the linear case.\n",
    "\n",
    "Consider the linear program:\n",
    "\n",
    "$$\n",
    "\\begin{split}\n",
    "\\min &  \\quad c'x \\\\\n",
    "   s.t.& \\\\\n",
    "   &Ax \\geq b \\\\\n",
    "   \\end{split}\n",
    "$$\n",
    "\n",
    "- Provide an expression for $k(p)$.\n",
    "- Formulate the optimization problem that is equivalent to finding the maximum lower bound of the original LP. "
   ]
  },
  {
   "cell_type": "markdown",
   "metadata": {},
   "source": [
    "This problem is called the dual problem.\n",
    "\n",
    "Weak duality states that the value of the primal objective function $c'x$ is always greater than or equal to the value of the dual objective function $p'b$ for any pair of feasible primal and dual solutions $(x,p)$:\n",
    "\n",
    "$$\n",
    "c'x \\geq p'b\n",
    "$$\n",
    "\n",
    "\n",
    "Under certain conditions—which always hold in the linear case—strong duality applies. This means that if an LP has an optimal solution, then its dual also has an optimal solution, and the corresponding objective function values are equal.\n",
    "\n",
    "As a result, the LP can be reformulated as a feasibility problem consisting of:\n",
    "\n",
    "1. primal feasibility constraints,\n",
    "2. dual feasibility constraints, and\n",
    "3. a strong duality constraint enforcing equality of the primal and dual objective values.\n",
    "\n",
    "This reformulation is particularly useful when an optimization problem must be expressed purely in terms of constraints—for example, in bi-level optimization problems."
   ]
  },
  {
   "cell_type": "markdown",
   "metadata": {},
   "source": [
    "### Task 3 \n",
    "\n",
    "Consider the linear bilevel problem: \n",
    "\n",
    "$$\n",
    "\\begin{split}\n",
    "\\min_{x,y} \\quad&  x+ y \\\\\n",
    "\\text{s.t.} \\quad\n",
    "&-x -2y \\geq  -10, \\\\\n",
    "&-x + 2y \\geq 0, \\\\\n",
    "&x \\geq 0, \\\\\n",
    "& y \\in \\arg\\min_{\\bar y}\\{\\bar y : x+ \\bar y \\geq 3\\}.\n",
    "\\end{split}\n",
    "$$\n",
    "\n",
    "- Plot the feasible region defined by the linear inequalities in the $(x,y)$-plane.\n",
    "- Identify the bilevel feasible set of the problem.\n",
    "- Complete the given Python code so that it solves the problem.\n",
    "\n"
   ]
  },
  {
   "cell_type": "code",
   "execution_count": null,
   "metadata": {},
   "outputs": [],
   "source": [
    "from pyomo.environ import *\n",
    "\n",
    "# Create a model\n",
    "model = ConcreteModel()\n",
    "\n",
    "# Define variables\n",
    "model.x = Var(within=NonNegativeReals)  # x >= 0\n",
    "model.y = Var()  # y is free, no constraints on y\n",
    "\n",
    "# Define the objective function (minimize x + y)\n",
    "model.obj = Objective(expr=model.x + model.y)\n",
    "\n",
    "# Define constraints\n",
    "model.constraint_1 = Constraint(expr=-model.x - 2*model.y >= -10)\n",
    "model.constraint_2 = Constraint(expr=-model.x + 2*model.y >= 0)\n",
    "\n",
    "\n",
    "# TODO: Add the constraints necessary represent the lower level optimization problem\n",
    "\n",
    "\n",
    "\n",
    "# Solve the model using a solver (e.g., 'ipopt')\n",
    "# solver = SolverFactory('gurobi')\n",
    "solver = SolverFactory('highs')\n",
    "\n",
    "\n",
    "# Solve the model\n",
    "solver.solve(model, tee=True)\n",
    "\n",
    "# Output the results\n",
    "print(f\"x = {model.x():.4f}\")\n",
    "print(f\"y = {model.y():.4f}\")"
   ]
  },
  {
   "cell_type": "markdown",
   "metadata": {},
   "source": [
    "### Task 4 \n",
    "\n",
    "Formulate your own problem and present it to the group in a two-minute pitch.\n",
    "\n",
    "Possible directions: \n",
    "- Policy design\n",
    "- Attack - defense \n",
    "- Leader-Follower dynamics\n",
    "\n",
    "\n",
    "Hint your lower level can be a linery constraint strickly convex QP. "
   ]
  }
 ],
 "metadata": {
  "kernelspec": {
   "display_name": ".venv",
   "language": "python",
   "name": "python3"
  },
  "language_info": {
   "codemirror_mode": {
    "name": "ipython",
    "version": 3
   },
   "file_extension": ".py",
   "mimetype": "text/x-python",
   "name": "python",
   "nbconvert_exporter": "python",
   "pygments_lexer": "ipython3",
   "version": "3.12.6"
  },
  "orig_nbformat": 4
 },
 "nbformat": 4,
 "nbformat_minor": 2
}
