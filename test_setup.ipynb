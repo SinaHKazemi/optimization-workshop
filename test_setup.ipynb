{
 "cells": [
  {
   "cell_type": "markdown",
   "metadata": {},
   "source": [
    "# Test file \n",
    "Try to run the following code. For help, we refer to https://code.visualstudio.com/docs/datascience/jupyter-notebooks ."
   ]
  },
  {
   "cell_type": "code",
   "execution_count": null,
   "metadata": {},
   "outputs": [],
   "source": [
    "import numpy as np\n",
    "import matplotlib.pyplot as plt \n",
    "from script import plot_lag_function\n",
    "\n",
    "from pyomo.environ import *\n",
    "solver = SolverFactory('highs')\n",
    "model = ConcreteModel()\n",
    "\n",
    "print(\"-> Ready to go\")"
   ]
  }
 ],
 "metadata": {
  "kernelspec": {
   "display_name": ".venv",
   "language": "python",
   "name": "python3"
  },
  "language_info": {
   "codemirror_mode": {
    "name": "ipython",
    "version": 3
   },
   "file_extension": ".py",
   "mimetype": "text/x-python",
   "name": "python",
   "nbconvert_exporter": "python",
   "pygments_lexer": "ipython3",
   "version": "3.12.6"
  }
 },
 "nbformat": 4,
 "nbformat_minor": 2
}
